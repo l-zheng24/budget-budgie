{
 "cells": [
  {
   "cell_type": "code",
   "execution_count": 18,
   "id": "891756ce",
   "metadata": {},
   "outputs": [
    {
     "name": "stdout",
     "output_type": "stream",
     "text": [
      "You can spend $16.67 per week\n"
     ]
    }
   ],
   "source": [
    "from datetime import date\n",
    "\n",
    "currentTotal = 100\n",
    "d0 = date(2023, 4, 1)\n",
    "d1 = date(2023, 5, 16)\n",
    "weeks = (d1 - d0).days//7\n",
    "\n",
    "print(\"You can spend $\"+ str(round(100/weeks, 2))+ \" per week\")\n"
   ]
  },
  {
   "cell_type": "code",
   "execution_count": null,
   "id": "06caac6b",
   "metadata": {},
   "outputs": [],
   "source": []
  },
  {
   "cell_type": "code",
   "execution_count": null,
   "id": "0c42be7e",
   "metadata": {},
   "outputs": [],
   "source": []
  }
 ],
 "metadata": {
  "kernelspec": {
   "display_name": "Python 3 (ipykernel)",
   "language": "python",
   "name": "python3"
  },
  "language_info": {
   "codemirror_mode": {
    "name": "ipython",
    "version": 3
   },
   "file_extension": ".py",
   "mimetype": "text/x-python",
   "name": "python",
   "nbconvert_exporter": "python",
   "pygments_lexer": "ipython3",
   "version": "3.11.1"
  }
 },
 "nbformat": 4,
 "nbformat_minor": 5
}
